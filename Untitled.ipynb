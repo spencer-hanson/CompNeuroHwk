{
 "cells": [
  {
   "cell_type": "code",
   "execution_count": 1,
   "id": "aa9bad2a",
   "metadata": {},
   "outputs": [],
   "source": [
    "from pynwb import NWBHDF5IO"
   ]
  },
  {
   "cell_type": "code",
   "execution_count": 2,
   "id": "34e8a139",
   "metadata": {},
   "outputs": [],
   "source": [
    "io = NWBHDF5IO(\"test.nwb\", \"r\")\n"
   ]
  },
  {
   "cell_type": "code",
   "execution_count": 3,
   "id": "472c97b0",
   "metadata": {},
   "outputs": [],
   "source": [
    "nwb = io.read()\n"
   ]
  },
  {
   "cell_type": "code",
   "execution_count": 4,
   "id": "56ea0309",
   "metadata": {},
   "outputs": [
    {
     "data": {
      "text/plain": [
       "root pynwb.file.NWBFile at 0x1910099926464\n",
       "Fields:\n",
       "  experiment_description: TODO PUT IN LATER\n",
       "  experimenter: ['John Gaynes']\n",
       "  file_create_date: [datetime.datetime(2023, 5, 23, 15, 1, 14, 100330, tzinfo=tzoffset(None, -21600))]\n",
       "  identifier: 69e1b55e-a5ea-4076-903b-eced23288a15\n",
       "  institution: CU Anschutz\n",
       "  keywords: <HDF5 dataset \"keywords\": shape (0,), type \"|O\">\n",
       "  lab: Poleg-Polsky Lab\n",
       "  processing: {\n",
       "    misc <class 'pynwb.base.ProcessingModule'>\n",
       "  }\n",
       "  session_description: Injury Notes: notes about the session go here\n",
       "  session_id: 642121be-24b0-4db5-a115-7f69f7be925a\n",
       "  session_start_time: 2023-05-23 15:01:14.100330-06:00\n",
       "  timestamps_reference_time: 2023-05-23 15:01:14.100330-06:00"
      ]
     },
     "execution_count": 4,
     "metadata": {},
     "output_type": "execute_result"
    }
   ],
   "source": [
    "nwb"
   ]
  },
  {
   "cell_type": "code",
   "execution_count": 12,
   "id": "83373c91",
   "metadata": {},
   "outputs": [],
   "source": [
    "col = nwb.processing[\"misc\"][\"combined\"][\"mouse_identifier\"][:]"
   ]
  },
  {
   "cell_type": "code",
   "execution_count": null,
   "id": "78976b22",
   "metadata": {},
   "outputs": [],
   "source": []
  }
 ],
 "metadata": {
  "kernelspec": {
   "display_name": "Python 3 (ipykernel)",
   "language": "python",
   "name": "python3"
  },
  "language_info": {
   "codemirror_mode": {
    "name": "ipython",
    "version": 3
   },
   "file_extension": ".py",
   "mimetype": "text/x-python",
   "name": "python",
   "nbconvert_exporter": "python",
   "pygments_lexer": "ipython3",
   "version": "3.9.10"
  }
 },
 "nbformat": 4,
 "nbformat_minor": 5
}
